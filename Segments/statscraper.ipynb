{
 "cells": [
  {
   "cell_type": "code",
   "execution_count": 75,
   "metadata": {},
   "outputs": [],
   "source": [
    "import os\n"
   ]
  },
  {
   "cell_type": "code",
   "execution_count": 62,
   "metadata": {},
   "outputs": [],
   "source": [
    "def retStat(text):\n",
    "    home = 0\n",
    "    away = 0\n",
    "    for g in x[\"players\"]:\n",
    "        if g[\"team\"] == 'home':\n",
    "            home += int(g[\"stats\"].get(text, 0))\n",
    "        else:\n",
    "            away += int(g[\"stats\"].get(text, 0))\n",
    "        \n",
    "    return home, away"
   ]
  },
  {
   "cell_type": "code",
   "execution_count": 53,
   "metadata": {},
   "outputs": [],
   "source": [
    "def getHighest(text):\n",
    "    highest = (\"None\", 0)\n",
    "    highestHome = (\"None\", 0)\n",
    "    highestAway = (\"None\", 0)\n",
    "    for g in x[\"players\"]:\n",
    "        stat = g[\"stats\"].get(text, 0)\n",
    "        if g[\"team\"] == 'home' and stat > 0:\n",
    "            if stat > highest[1]:\n",
    "                highest = (g[\"username\"], stat)\n",
    "            if stat > highestHome[1]:\n",
    "                highestHome = (g[\"username\"], stat)\n",
    "        elif stat > 0:\n",
    "            if stat > highest[1]:\n",
    "                highest = (g[\"username\"], stat)\n",
    "            if stat > highestAway[1]:\n",
    "                highestAway = (g[\"username\"], stat)\n",
    "    return highest\n"
   ]
  },
  {
   "cell_type": "code",
   "execution_count": 68,
   "metadata": {},
   "outputs": [],
   "source": [
    "class Stat:\n",
    "    def __init__(self, name) -> None:\n",
    "        self.statName = name\n",
    "        self.statHomeScore, self.statAwayScore = retStat(name)\n",
    "        self.bestPlayer = getHighest(name)\n",
    "    def __repr__(self) -> str:\n",
    "        rpp = f\"\"\"\n",
    "        Stat: {self.statName}\n",
    "        Home: {self.statHomeScore}\n",
    "        Away: {self.statAwayScore}\n",
    "        Best Player: {self.bestPlayer}\n",
    "        \"\"\"\n",
    "        return rpp"
   ]
  },
  {
   "cell_type": "code",
   "execution_count": 81,
   "metadata": {},
   "outputs": [],
   "source": [
    "import json\n",
    "matchedDir = r\"G:\\Program Files\\Steam\\steamapps\\common\\SlapshotRebound\\Slapshot_Data\\Matches\"\n",
    "file = max([matchedDir + f\"\\\\{file}\" for file in os.listdir(matchedDir)], key=os.path.getctime)\n",
    "\n",
    "x = open(r\"G:\\Program Files\\Steam\\steamapps\\common\\SlapshotRebound\\Slapshot_Data\\Matches\\2021-05-28-18-40-52.json\", \"r\")\n",
    "x = json.load(x)\n"
   ]
  },
  {
   "cell_type": "code",
   "execution_count": 72,
   "metadata": {},
   "outputs": [],
   "source": [
    "statNames = ['passes', 'possession_time_sec', 'takeaways', 'turnovers',\n",
    "             'score', 'goals', 'shots', 'faceoffs_won', 'saves', 'blocks', 'post_hits']\n",
    "stats = []\n",
    "for stat in statNames:\n",
    "    stats.append(Stat(stat))"
   ]
  },
  {
   "cell_type": "code",
   "execution_count": 73,
   "metadata": {},
   "outputs": [
    {
     "name": "stdout",
     "output_type": "stream",
     "text": [
      "=====\n",
      "\n",
      "        Stat: passes\n",
      "        Home: 32\n",
      "        Away: 3\n",
      "        Best Player: ('Steezy', 14.0)\n",
      "        \n",
      "=====\n",
      "\n",
      "        Stat: possession_time_sec\n",
      "        Home: 80\n",
      "        Away: 31\n",
      "        Best Player: ('Steezy', 39.0)\n",
      "        \n",
      "=====\n",
      "\n",
      "        Stat: takeaways\n",
      "        Home: 12\n",
      "        Away: 8\n",
      "        Best Player: ('baccy', 8.0)\n",
      "        \n",
      "=====\n",
      "\n",
      "        Stat: turnovers\n",
      "        Home: 8\n",
      "        Away: 12\n",
      "        Best Player: ('baccy', 6.0)\n",
      "        \n",
      "=====\n",
      "\n",
      "        Stat: score\n",
      "        Home: 530\n",
      "        Away: 310\n",
      "        Best Player: ('egyptian messi', 190.0)\n",
      "        \n",
      "=====\n",
      "\n",
      "        Stat: goals\n",
      "        Home: 2\n",
      "        Away: 1\n",
      "        Best Player: ('SnowWolf', 1.0)\n",
      "        \n",
      "=====\n",
      "\n",
      "        Stat: shots\n",
      "        Home: 6\n",
      "        Away: 1\n",
      "        Best Player: ('Steezy', 3.0)\n",
      "        \n",
      "=====\n",
      "\n",
      "        Stat: faceoffs_won\n",
      "        Home: 1\n",
      "        Away: 3\n",
      "        Best Player: ('Blister', 2.0)\n",
      "        \n",
      "=====\n",
      "\n",
      "        Stat: saves\n",
      "        Home: 0\n",
      "        Away: 4\n",
      "        Best Player: ('Blister', 4.0)\n",
      "        \n",
      "=====\n",
      "\n",
      "        Stat: blocks\n",
      "        Home: 1\n",
      "        Away: 0\n",
      "        Best Player: ('SnowWolf', 1.0)\n",
      "        \n",
      "=====\n",
      "\n",
      "        Stat: post_hits\n",
      "        Home: 1\n",
      "        Away: 0\n",
      "        Best Player: ('SnowWolf', 1.0)\n",
      "        \n"
     ]
    }
   ],
   "source": [
    "for g in stats:\n",
    "    print(\"=====\")\n",
    "    print(g)"
   ]
  }
 ],
 "metadata": {
  "kernelspec": {
   "display_name": "Python 3",
   "language": "python",
   "name": "python3"
  },
  "language_info": {
   "codemirror_mode": {
    "name": "ipython",
    "version": 3
   },
   "file_extension": ".py",
   "mimetype": "text/x-python",
   "name": "python",
   "nbconvert_exporter": "python",
   "pygments_lexer": "ipython3",
   "version": "3.10.6"
  },
  "orig_nbformat": 4
 },
 "nbformat": 4,
 "nbformat_minor": 2
}
